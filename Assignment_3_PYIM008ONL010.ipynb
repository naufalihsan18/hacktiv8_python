{
  "nbformat": 4,
  "nbformat_minor": 0,
  "metadata": {
    "colab": {
      "name": "Niatnya assignment 3.ipynb",
      "provenance": []
    },
    "kernelspec": {
      "name": "python3",
      "display_name": "Python 3"
    },
    "language_info": {
      "name": "python"
    },
    "accelerator": "GPU"
  },
  "cells": [
    {
      "cell_type": "markdown",
      "metadata": {
        "id": "Gv7IOj675QgG"
      },
      "source": [
        "**IMPORT LIBRARY**"
      ]
    },
    {
      "cell_type": "code",
      "metadata": {
        "id": "J8ljKSf6-hZF"
      },
      "source": [
        "import numpy as np\n",
        "\n",
        "import tensorflow_datasets as tfds\n",
        "import tensorflow as tf\n",
        "\n",
        "tfds.disable_progress_bar()"
      ],
      "execution_count": 2,
      "outputs": []
    },
    {
      "cell_type": "markdown",
      "metadata": {
        "id": "32yEPdWS5aol"
      },
      "source": [
        "**SET FUNCTION FOR ACCURACY CHART**"
      ]
    },
    {
      "cell_type": "code",
      "metadata": {
        "id": "BI57Irk5kJWg"
      },
      "source": [
        "import matplotlib.pyplot as plt\n",
        "\n",
        "\n",
        "def plot_graphs(history, metric):\n",
        "  plt.plot(history.history[metric])\n",
        "  plt.plot(history.history['val_'+metric], '')\n",
        "  plt.xlabel(\"Epochs\")\n",
        "  plt.ylabel(metric)\n",
        "  plt.legend([metric, 'val_'+metric])"
      ],
      "execution_count": 3,
      "outputs": []
    },
    {
      "cell_type": "markdown",
      "metadata": {
        "id": "gSZHoc-T5lRJ"
      },
      "source": [
        "**LOAD AG NEWS SUBSET DATASET**"
      ]
    },
    {
      "cell_type": "markdown",
      "metadata": {
        "id": "qB1jC-8P52h3"
      },
      "source": [
        "AG is a collection of more than 1 million news articles. Labelled into 4 types of category: 0-World/General, 1-Sports, 2-Business, 3-SciTech. Please refer to this link for more info: https://www.tensorflow.org/datasets/catalog/ag_news_subset"
      ]
    },
    {
      "cell_type": "code",
      "metadata": {
        "id": "jqbRw918EHyO"
      },
      "source": [
        "#RUN THIS TWICE! I don't really understand why, but the first one always failed. But the second one is always works.\n",
        "\n",
        "dataset= tfds.load('ag_news_subset', as_supervised=True)"
      ],
      "execution_count": 4,
      "outputs": []
    },
    {
      "cell_type": "code",
      "metadata": {
        "colab": {
          "base_uri": "https://localhost:8080/"
        },
        "id": "yZakdHCSgoX1",
        "outputId": "a29d350b-ce11-482e-ae5a-66f7d151c9af"
      },
      "source": [
        "#Obtain dataset for training and testing\n",
        "\n",
        "train_dataset, test_dataset = dataset['train'], dataset['test']\n",
        "train_dataset.element_spec"
      ],
      "execution_count": 5,
      "outputs": [
        {
          "output_type": "execute_result",
          "data": {
            "text/plain": [
              "(TensorSpec(shape=(), dtype=tf.string, name=None),\n",
              " TensorSpec(shape=(), dtype=tf.int64, name=None))"
            ]
          },
          "metadata": {
            "tags": []
          },
          "execution_count": 5
        }
      ]
    },
    {
      "cell_type": "code",
      "metadata": {
        "colab": {
          "base_uri": "https://localhost:8080/"
        },
        "id": "j8q8nwEdK--P",
        "outputId": "06b66fd9-5008-421f-9ada-aad878fc416d"
      },
      "source": [
        "#Show example of data and labelling\n",
        "#0-World, 1-Sports, 2-Business, 3-Tech \n",
        "for example, label in train_dataset.take(1):\n",
        "  print('text: ', example.numpy())\n",
        "  print('label: ', label.numpy())"
      ],
      "execution_count": 6,
      "outputs": [
        {
          "output_type": "stream",
          "text": [
            "text:  b'AMD #39;s new dual-core Opteron chip is designed mainly for corporate computing applications, including databases, Web services, and financial transactions.'\n",
            "label:  3\n"
          ],
          "name": "stdout"
        }
      ]
    },
    {
      "cell_type": "markdown",
      "metadata": {
        "id": "Eh14KKo97Xhr"
      },
      "source": [
        "**DATA PREPARATION**"
      ]
    },
    {
      "cell_type": "code",
      "metadata": {
        "id": "e0xKdcIPJ7Bt"
      },
      "source": [
        "#Set buffer size and batch size for optimization\n",
        "BUFFER_SIZE = 10000\n",
        "BATCH_SIZE = 64"
      ],
      "execution_count": 7,
      "outputs": []
    },
    {
      "cell_type": "code",
      "metadata": {
        "id": "Jx-ysFmjhPLp"
      },
      "source": [
        "#Autotune the dataset\n",
        "train_dataset = train_dataset.shuffle(BUFFER_SIZE).batch(BATCH_SIZE).prefetch(tf.data.AUTOTUNE)\n",
        "test_dataset = test_dataset.batch(BATCH_SIZE).prefetch(tf.data.AUTOTUNE)"
      ],
      "execution_count": 8,
      "outputs": []
    },
    {
      "cell_type": "code",
      "metadata": {
        "colab": {
          "base_uri": "https://localhost:8080/"
        },
        "id": "WrKu8o_eY6lO",
        "outputId": "920a4aba-1e97-4ac8-bd2a-480dab89463d"
      },
      "source": [
        "#Check the autotune result, shuffled from before\n",
        "for example, label in train_dataset.take(1):\n",
        "  print('texts: ', example.numpy()[3])\n",
        "  print()\n",
        "  print('labels: ', label.numpy()[3])"
      ],
      "execution_count": 9,
      "outputs": [
        {
          "output_type": "stream",
          "text": [
            "texts:  b'(Sports Network) - Winners in four of their last five games, the Detroit Tigers hand the ball to 23-year-old lefthander Wilfredo Ledezma tonight for the middle portion of a three-game series with the Chicago White Sox at Comerica Park.'\n",
            "\n",
            "labels:  1\n"
          ],
          "name": "stdout"
        }
      ]
    },
    {
      "cell_type": "code",
      "metadata": {
        "id": "7oMHeqyQXWfS"
      },
      "source": [
        "#Set Vocabulary size and vectorize the data\n",
        "VOCAB_SIZE = 10000\n",
        "encoder = tf.keras.layers.experimental.preprocessing.TextVectorization(\n",
        "    max_tokens=VOCAB_SIZE)\n",
        "encoder.adapt(train_dataset.map(lambda text, label: text))"
      ],
      "execution_count": 10,
      "outputs": []
    },
    {
      "cell_type": "markdown",
      "metadata": {
        "id": "irrKeadtDMx3"
      },
      "source": [
        "**CREATE MODEL**"
      ]
    },
    {
      "cell_type": "markdown",
      "metadata": {
        "id": "WNsaGQ-TDPvJ"
      },
      "source": [
        "In this model, I use one layer of LSTM. I was trying to use CuDNNLSTM, because the process is faster when using GPU (and it is 2 times faster than ordinary LSTM). However, the accuracy somehow worse than the ordinary LSTM. So I switched it back."
      ]
    },
    {
      "cell_type": "markdown",
      "metadata": {
        "id": "x7mLVH3MD3dX"
      },
      "source": [
        "I use dropout because there is a tendency of the model to overfit. Especially when doing more than 10 epochs."
      ]
    },
    {
      "cell_type": "code",
      "metadata": {
        "id": "X1yH2G0bYa1b"
      },
      "source": [
        "model = tf.keras.Sequential([\n",
        "    encoder,\n",
        "    tf.keras.layers.Embedding(\n",
        "        input_dim=len(encoder.get_vocabulary()),\n",
        "        output_dim=64,\n",
        "        # Use masking to handle the variable sequence lengths\n",
        "        mask_zero=True),\n",
        "    tf.keras.layers.Bidirectional(tf.keras.layers.LSTM(64)),\n",
        "    #tf.keras.layers.Bidirectional(tf.compat.v1.keras.layers.CuDNNLSTM(64)),\n",
        "    tf.keras.layers.Dense(64, activation='relu'),\n",
        "    tf.keras.layers.Dropout(0.5),\n",
        "    tf.keras.layers.Dense(4) #number of class: 0,1,2,3.\n",
        "])"
      ],
      "execution_count": 11,
      "outputs": []
    },
    {
      "cell_type": "markdown",
      "metadata": {
        "id": "j7V8zjoSEK4k"
      },
      "source": [
        "Sparse Categorical Crossentropy is used when there are more than one class and the information of the class is in 1 field (not hot-encoded). For more info: https://keras.io/api/losses/probabilistic_losses/#sparsecategoricalcrossentropy-class"
      ]
    },
    {
      "cell_type": "code",
      "metadata": {
        "id": "FWQnYB2VhzWk"
      },
      "source": [
        "model.compile(loss=tf.keras.losses.SparseCategoricalCrossentropy(from_logits=True),\n",
        "              optimizer=tf.keras.optimizers.Adam(1e-4),\n",
        "              metrics=['accuracy'])"
      ],
      "execution_count": 12,
      "outputs": []
    },
    {
      "cell_type": "code",
      "metadata": {
        "id": "pdBgTNL5QCcR",
        "colab": {
          "base_uri": "https://localhost:8080/"
        },
        "outputId": "e57fcbcf-1340-4fd9-ab62-1b7652676237"
      },
      "source": [
        "history = model.fit(train_dataset, epochs=15,\n",
        "                    validation_data=test_dataset,\n",
        "                    validation_steps=30)"
      ],
      "execution_count": 13,
      "outputs": [
        {
          "output_type": "stream",
          "text": [
            "Epoch 1/15\n",
            "1875/1875 [==============================] - 56s 25ms/step - loss: 0.6741 - accuracy: 0.7428 - val_loss: 0.3706 - val_accuracy: 0.8807\n",
            "Epoch 2/15\n",
            "1875/1875 [==============================] - 46s 24ms/step - loss: 0.3452 - accuracy: 0.8905 - val_loss: 0.3202 - val_accuracy: 0.8964\n",
            "Epoch 3/15\n",
            "1875/1875 [==============================] - 46s 25ms/step - loss: 0.2935 - accuracy: 0.9069 - val_loss: 0.3117 - val_accuracy: 0.8969\n",
            "Epoch 4/15\n",
            "1875/1875 [==============================] - 46s 24ms/step - loss: 0.2621 - accuracy: 0.9174 - val_loss: 0.3035 - val_accuracy: 0.9073\n",
            "Epoch 5/15\n",
            "1875/1875 [==============================] - 46s 24ms/step - loss: 0.2399 - accuracy: 0.9240 - val_loss: 0.2862 - val_accuracy: 0.9078\n",
            "Epoch 6/15\n",
            "1875/1875 [==============================] - 46s 24ms/step - loss: 0.2216 - accuracy: 0.9294 - val_loss: 0.2926 - val_accuracy: 0.9078\n",
            "Epoch 7/15\n",
            "1875/1875 [==============================] - 46s 25ms/step - loss: 0.2076 - accuracy: 0.9338 - val_loss: 0.3080 - val_accuracy: 0.9042\n",
            "Epoch 8/15\n",
            "1875/1875 [==============================] - 46s 24ms/step - loss: 0.1963 - accuracy: 0.9372 - val_loss: 0.3044 - val_accuracy: 0.9042\n",
            "Epoch 9/15\n",
            "1875/1875 [==============================] - 46s 24ms/step - loss: 0.1863 - accuracy: 0.9400 - val_loss: 0.3173 - val_accuracy: 0.9078\n",
            "Epoch 10/15\n",
            "1875/1875 [==============================] - 46s 24ms/step - loss: 0.1785 - accuracy: 0.9430 - val_loss: 0.3137 - val_accuracy: 0.9083\n",
            "Epoch 11/15\n",
            "1875/1875 [==============================] - 46s 24ms/step - loss: 0.1703 - accuracy: 0.9451 - val_loss: 0.3204 - val_accuracy: 0.9094\n",
            "Epoch 12/15\n",
            "1875/1875 [==============================] - 46s 24ms/step - loss: 0.1627 - accuracy: 0.9477 - val_loss: 0.3244 - val_accuracy: 0.9026\n",
            "Epoch 13/15\n",
            "1875/1875 [==============================] - 45s 24ms/step - loss: 0.1565 - accuracy: 0.9494 - val_loss: 0.3279 - val_accuracy: 0.9068\n",
            "Epoch 14/15\n",
            "1875/1875 [==============================] - 44s 23ms/step - loss: 0.1485 - accuracy: 0.9514 - val_loss: 0.3551 - val_accuracy: 0.9042\n",
            "Epoch 15/15\n",
            "1875/1875 [==============================] - 44s 23ms/step - loss: 0.1416 - accuracy: 0.9540 - val_loss: 0.3714 - val_accuracy: 0.8974\n"
          ],
          "name": "stdout"
        }
      ]
    },
    {
      "cell_type": "code",
      "metadata": {
        "colab": {
          "base_uri": "https://localhost:8080/"
        },
        "id": "sqx0XopdiHv8",
        "outputId": "e99c18f6-9330-4184-bd22-2de24bf9d6ce"
      },
      "source": [
        "#Model Accuracy\n",
        "\n",
        "test_loss, test_acc = model.evaluate(test_dataset)\n",
        "\n",
        "print('Test Loss:', test_loss)\n",
        "print('Test Accuracy:', test_acc)"
      ],
      "execution_count": 14,
      "outputs": [
        {
          "output_type": "stream",
          "text": [
            "119/119 [==============================] - 1s 11ms/step - loss: 0.4007 - accuracy: 0.8899\n",
            "Test Loss: 0.4006781578063965\n",
            "Test Accuracy: 0.889868438243866\n"
          ],
          "name": "stdout"
        }
      ]
    },
    {
      "cell_type": "code",
      "metadata": {
        "colab": {
          "base_uri": "https://localhost:8080/",
          "height": 518
        },
        "id": "mhSpYYGEkCLN",
        "outputId": "ff7252e8-c8c6-43ac-d193-ca9ce2940b5e"
      },
      "source": [
        "plt.figure(figsize=(16, 8))\n",
        "plt.subplot(1, 2, 1)\n",
        "plot_graphs(history, 'accuracy')\n",
        "plt.ylim(None, 1)\n",
        "plt.subplot(1, 2, 2)\n",
        "plot_graphs(history, 'loss')\n",
        "plt.ylim(0, None)"
      ],
      "execution_count": 15,
      "outputs": [
        {
          "output_type": "execute_result",
          "data": {
            "text/plain": [
              "(0.0, 0.7007512003183365)"
            ]
          },
          "metadata": {
            "tags": []
          },
          "execution_count": 15
        },
        {
          "output_type": "display_data",
          "data": {
            "image/png": "[encoded data removed]",
            "text/plain": [
              "<Figure size 1152x576 with 2 Axes>"
            ]
          },
          "metadata": {
            "tags": [],
            "needs_background": "light"
          }
        }
      ]
    },
    {
      "cell_type": "markdown",
      "metadata": {
        "id": "NIaDUbRvHmGm"
      },
      "source": [
        "**TEST BY INPUT NEW TEXT**"
      ]
    },
    {
      "cell_type": "code",
      "metadata": {
        "id": "KB2hHgAonS-4"
      },
      "source": [
        "#Create a list of labels\n",
        "\n",
        "label_class=[]\n",
        "label_class.append(\"World\") #0\n",
        "label_class.append(\"Sports\") #1\n",
        "label_class.append(\"Business\") #2\n",
        "label_class.append(\"SciTech\") #3"
      ],
      "execution_count": 16,
      "outputs": []
    },
    {
      "cell_type": "markdown",
      "metadata": {
        "id": "YiclNi-ZHv5E"
      },
      "source": [
        "The result of prediction will be an array of scores for each classes. In this code, I iterate the score for each class and return the highest score + the index. The index then will be passed to list of labels."
      ]
    },
    {
      "cell_type": "code",
      "metadata": {
        "colab": {
          "base_uri": "https://localhost:8080/"
        },
        "id": "71YZU0d1kFGl",
        "outputId": "df99f540-d0ed-4665-a76b-5bff334332a4"
      },
      "source": [
        "sample_text = ('KGB starts a new cold war with CIA in issue of brexit')\n",
        "predictions = model.predict(np.array([sample_text]))\n",
        "array_score = predictions[0]\n",
        "\n",
        "i=0\n",
        "max_score =-99\n",
        "index = 0\n",
        "for score in array_score:\n",
        "  if score > max_score:\n",
        "    max_score = score\n",
        "    index = i\n",
        "  else:\n",
        "    max_score=max_score\n",
        "    index=index\n",
        "  i=i+1\n",
        "print(sample_text)\n",
        "print(\"This news is in category:\")\n",
        "print(label_class[index])\n",
        "\n"
      ],
      "execution_count": 17,
      "outputs": [
        {
          "output_type": "stream",
          "text": [
            "KGB starts a new cold war with CIA in issue of brexit\n",
            "This news is in category:\n",
            "World\n"
          ],
          "name": "stdout"
        }
      ]
    },
    {
      "cell_type": "code",
      "metadata": {
        "colab": {
          "base_uri": "https://localhost:8080/"
        },
        "id": "BaK8a0F9kd3y",
        "outputId": "48a86b3a-eecb-4e62-d362-d6c1ccb0669e"
      },
      "source": [
        "#To check the prediction score for each class\n",
        "array_score"
      ],
      "execution_count": 18,
      "outputs": [
        {
          "output_type": "execute_result",
          "data": {
            "text/plain": [
              "array([ 2.7397304, -1.7716445, -1.5813339, -0.4825864], dtype=float32)"
            ]
          },
          "metadata": {
            "tags": []
          },
          "execution_count": 18
        }
      ]
    },
    {
      "cell_type": "markdown",
      "metadata": {
        "id": "9A0WrFH7IT8B"
      },
      "source": [
        "**OPTIONAL**"
      ]
    },
    {
      "cell_type": "markdown",
      "metadata": {
        "id": "GlYVWtYWIWX2"
      },
      "source": [
        "The model below is using one more LSTM layer. I've tried to use it, but the result is pretty much the same."
      ]
    },
    {
      "cell_type": "code",
      "metadata": {
        "id": "eDBW1HjIknbE"
      },
      "source": [
        "#ADD MORE LSTM LAYER\n",
        "model2 = tf.keras.Sequential([\n",
        "    encoder,\n",
        "    tf.keras.layers.Embedding(len(encoder.get_vocabulary()), output_dim=64, mask_zero=False),\n",
        "    tf.keras.layers.Bidirectional(tf.keras.layers.LSTM(64,  return_sequences=True)),\n",
        "    tf.keras.layers.Bidirectional(tf.keras.layers.LSTM(32)),\n",
        "    tf.keras.layers.Dense(64, activation='relu'),\n",
        "    tf.keras.layers.Dropout(0.5),\n",
        "    tf.keras.layers.Dense(4)\n",
        "])"
      ],
      "execution_count": 19,
      "outputs": []
    },
    {
      "cell_type": "code",
      "metadata": {
        "id": "383SuIypr64_"
      },
      "source": [
        "model2.compile(loss=tf.keras.losses.SparseCategoricalCrossentropy(from_logits=True),\n",
        "              optimizer=tf.keras.optimizers.Adam(1e-4),\n",
        "              metrics=['accuracy'])"
      ],
      "execution_count": 20,
      "outputs": []
    },
    {
      "cell_type": "code",
      "metadata": {
        "colab": {
          "base_uri": "https://localhost:8080/"
        },
        "id": "nstwZ7sRlqyc",
        "outputId": "dec4c2b8-a23d-4bc9-a617-c0422822e544"
      },
      "source": [
        "history = model2.fit(train_dataset, epochs=15,\n",
        "                    validation_data=test_dataset,\n",
        "                    validation_steps=30)"
      ],
      "execution_count": 21,
      "outputs": [
        {
          "output_type": "stream",
          "text": [
            "Epoch 1/15\n",
            "1875/1875 [==============================] - 51s 24ms/step - loss: 0.7135 - accuracy: 0.6788 - val_loss: 0.3687 - val_accuracy: 0.8818\n",
            "Epoch 2/15\n",
            "1875/1875 [==============================] - 45s 24ms/step - loss: 0.3484 - accuracy: 0.8936 - val_loss: 0.3071 - val_accuracy: 0.9016\n",
            "Epoch 3/15\n",
            "1875/1875 [==============================] - 45s 24ms/step - loss: 0.2847 - accuracy: 0.9153 - val_loss: 0.2981 - val_accuracy: 0.9068\n",
            "Epoch 4/15\n",
            "1875/1875 [==============================] - 45s 24ms/step - loss: 0.2529 - accuracy: 0.9248 - val_loss: 0.3136 - val_accuracy: 0.9057\n",
            "Epoch 5/15\n",
            "1875/1875 [==============================] - 46s 24ms/step - loss: 0.2300 - accuracy: 0.9313 - val_loss: 0.3049 - val_accuracy: 0.9078\n",
            "Epoch 6/15\n",
            "1875/1875 [==============================] - 45s 24ms/step - loss: 0.2136 - accuracy: 0.9363 - val_loss: 0.3220 - val_accuracy: 0.9052\n",
            "Epoch 7/15\n",
            "1875/1875 [==============================] - 44s 23ms/step - loss: 0.1984 - accuracy: 0.9418 - val_loss: 0.3292 - val_accuracy: 0.9062\n",
            "Epoch 8/15\n",
            "1875/1875 [==============================] - 43s 23ms/step - loss: 0.1864 - accuracy: 0.9440 - val_loss: 0.3491 - val_accuracy: 0.9026\n",
            "Epoch 9/15\n",
            "1875/1875 [==============================] - 44s 23ms/step - loss: 0.1759 - accuracy: 0.9478 - val_loss: 0.3435 - val_accuracy: 0.9047\n",
            "Epoch 10/15\n",
            "1875/1875 [==============================] - 43s 23ms/step - loss: 0.1641 - accuracy: 0.9513 - val_loss: 0.3697 - val_accuracy: 0.8969\n",
            "Epoch 11/15\n",
            "1875/1875 [==============================] - 43s 23ms/step - loss: 0.1557 - accuracy: 0.9532 - val_loss: 0.3772 - val_accuracy: 0.9036\n",
            "Epoch 12/15\n",
            "1875/1875 [==============================] - 43s 23ms/step - loss: 0.1479 - accuracy: 0.9561 - val_loss: 0.3722 - val_accuracy: 0.8974\n",
            "Epoch 13/15\n",
            "1875/1875 [==============================] - 44s 23ms/step - loss: 0.1404 - accuracy: 0.9579 - val_loss: 0.4002 - val_accuracy: 0.8958\n",
            "Epoch 14/15\n",
            "1875/1875 [==============================] - 43s 23ms/step - loss: 0.1319 - accuracy: 0.9614 - val_loss: 0.4025 - val_accuracy: 0.8974\n",
            "Epoch 15/15\n",
            "1875/1875 [==============================] - 43s 23ms/step - loss: 0.1253 - accuracy: 0.9629 - val_loss: 0.4261 - val_accuracy: 0.9016\n"
          ],
          "name": "stdout"
        }
      ]
    },
    {
      "cell_type": "code",
      "metadata": {
        "id": "pmTZBPhZLDVQ",
        "colab": {
          "base_uri": "https://localhost:8080/"
        },
        "outputId": "02f008ba-61af-4e29-f181-517b25809a60"
      },
      "source": [
        "#Model Accuracy\n",
        "\n",
        "test_loss, test_acc = model.evaluate(test_dataset)\n",
        "\n",
        "print('Test Loss:', test_loss)\n",
        "print('Test Accuracy:', test_acc)"
      ],
      "execution_count": 22,
      "outputs": [
        {
          "output_type": "stream",
          "text": [
            "119/119 [==============================] - 1s 8ms/step - loss: 0.4007 - accuracy: 0.8899\n",
            "Test Loss: 0.4006781578063965\n",
            "Test Accuracy: 0.889868438243866\n"
          ],
          "name": "stdout"
        }
      ]
    },
    {
      "cell_type": "code",
      "metadata": {
        "id": "6Kkz5WhPLHph",
        "colab": {
          "base_uri": "https://localhost:8080/",
          "height": 518
        },
        "outputId": "a6ab3942-e30c-42dc-9292-d53b807b1de9"
      },
      "source": [
        "plt.figure(figsize=(16, 8))\n",
        "plt.subplot(1, 2, 1)\n",
        "plot_graphs(history, 'accuracy')\n",
        "plt.ylim(None, 1)\n",
        "plt.subplot(1, 2, 2)\n",
        "plot_graphs(history, 'loss')\n",
        "plt.ylim(0, None)"
      ],
      "execution_count": 23,
      "outputs": [
        {
          "output_type": "execute_result",
          "data": {
            "text/plain": [
              "(0.0, 0.7428905725479126)"
            ]
          },
          "metadata": {
            "tags": []
          },
          "execution_count": 23
        },
        {
          "output_type": "display_data",
          "data": {
            "image/png": "[encoded data removed]",
            "text/plain": [
              "<Figure size 1152x576 with 2 Axes>"
            ]
          },
          "metadata": {
            "tags": [],
            "needs_background": "light"
          }
        }
      ]
    },
    {
      "cell_type": "code",
      "metadata": {
        "colab": {
          "base_uri": "https://localhost:8080/"
        },
        "id": "5bZWJ_8hriLb",
        "outputId": "1f6dce65-00f7-4c20-b932-2eac8cd2be75"
      },
      "source": [
        "#Testing\n",
        "sample_text = ('Manchester United signs another striker')\n",
        "predictions = model2.predict(np.array([sample_text]))\n",
        "array_score = predictions[0]\n",
        "\n",
        "i=0\n",
        "max_score =-99\n",
        "index = 0\n",
        "for score in array_score:\n",
        "  if score > max_score:\n",
        "    max_score = score\n",
        "    index = i\n",
        "  else:\n",
        "    max_score=max_score\n",
        "    index=index\n",
        "  i=i+1\n",
        "print(sample_text)\n",
        "print(\"This news is in category:\")\n",
        "print(label_class[index])"
      ],
      "execution_count": 24,
      "outputs": [
        {
          "output_type": "stream",
          "text": [
            "Manchester United signs another striker\n",
            "This news is in category:\n",
            "Sports\n"
          ],
          "name": "stdout"
        }
      ]
    },
    {
      "cell_type": "code",
      "metadata": {
        "colab": {
          "base_uri": "https://localhost:8080/"
        },
        "id": "8nu6HdrYxPE8",
        "outputId": "66874cba-70e7-4a27-c832-394e45d8be22"
      },
      "source": [
        "#Check score for all class\n",
        "array_score"
      ],
      "execution_count": 25,
      "outputs": [
        {
          "output_type": "execute_result",
          "data": {
            "text/plain": [
              "array([-0.15432651,  1.7783105 , -1.834594  , -1.6152693 ], dtype=float32)"
            ]
          },
          "metadata": {
            "tags": []
          },
          "execution_count": 25
        }
      ]
    },
    {
      "cell_type": "code",
      "metadata": {
        "id": "UTRZrmngxdaE"
      },
      "source": [
        ""
      ],
      "execution_count": null,
      "outputs": []
    }
  ]
}