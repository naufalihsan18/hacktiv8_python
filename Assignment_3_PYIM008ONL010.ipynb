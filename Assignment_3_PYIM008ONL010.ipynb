{
  "nbformat": 4,
  "nbformat_minor": 0,
  "metadata": {
    "colab": {
      "name": "Niatnya assignment 3.ipynb",
      "provenance": []
    },
    "kernelspec": {
      "name": "python3",
      "display_name": "Python 3"
    },
    "language_info": {
      "name": "python"
    },
    "accelerator": "GPU"
  },
  "cells": [
    {
      "cell_type": "markdown",
      "metadata": {
        "id": "Gv7IOj675QgG"
      },
      "source": [
        "**IMPORT LIBRARY**"
      ]
    },
    {
      "cell_type": "code",
      "metadata": {
        "id": "J8ljKSf6-hZF"
      },
      "source": [
        "import numpy as np\n",
        "\n",
        "import tensorflow_datasets as tfds\n",
        "import tensorflow as tf\n",
        "\n",
        "tfds.disable_progress_bar()"
      ],
      "execution_count": 1,
      "outputs": []
    },
    {
      "cell_type": "markdown",
      "metadata": {
        "id": "32yEPdWS5aol"
      },
      "source": [
        "**SET FUNCTION FOR ACCURACY CHART**"
      ]
    },
    {
      "cell_type": "code",
      "metadata": {
        "id": "BI57Irk5kJWg"
      },
      "source": [
        "import matplotlib.pyplot as plt\n",
        "\n",
        "\n",
        "def plot_graphs(history, metric):\n",
        "  plt.plot(history.history[metric])\n",
        "  plt.plot(history.history['val_'+metric], '')\n",
        "  plt.xlabel(\"Epochs\")\n",
        "  plt.ylabel(metric)\n",
        "  plt.legend([metric, 'val_'+metric])"
      ],
      "execution_count": 2,
      "outputs": []
    },
    {
      "cell_type": "markdown",
      "metadata": {
        "id": "gSZHoc-T5lRJ"
      },
      "source": [
        "**LOAD AG NEWS SUBSET DATASET**"
      ]
    },
    {
      "cell_type": "markdown",
      "metadata": {
        "id": "qB1jC-8P52h3"
      },
      "source": [
        "AG is a collection of more than 1 million news articles. Labelled into 4 types of category: 0-World/General, 1-Sports, 2-Business, 3-SciTech. Please refer to this link for more info: https://www.tensorflow.org/datasets/catalog/ag_news_subset"
      ]
    },
    {
      "cell_type": "code",
      "metadata": {
        "id": "jqbRw918EHyO",
        "colab": {
          "base_uri": "https://localhost:8080/"
        },
        "outputId": "efd49c56-745f-40df-e9ba-88136200439e"
      },
      "source": [
        "#RUN THIS TWICE! I don't really understand why, but the first one always failed. But the second one is always works.\n",
        "\n",
        "dataset= tfds.load('ag_news_subset', as_supervised=True)"
      ],
      "execution_count": 4,
      "outputs": [
        {
          "output_type": "stream",
          "text": [
            "\u001b[1mDownloading and preparing dataset ag_news_subset/1.0.0 (download: 11.24 MiB, generated: 35.79 MiB, total: 47.03 MiB) to /root/tensorflow_datasets/ag_news_subset/1.0.0...\u001b[0m\n",
            "Shuffling and writing examples to /root/tensorflow_datasets/ag_news_subset/1.0.0.incompleteG3TZWR/ag_news_subset-train.tfrecord\n",
            "Shuffling and writing examples to /root/tensorflow_datasets/ag_news_subset/1.0.0.incompleteG3TZWR/ag_news_subset-test.tfrecord\n",
            "\u001b[1mDataset ag_news_subset downloaded and prepared to /root/tensorflow_datasets/ag_news_subset/1.0.0. Subsequent calls will reuse this data.\u001b[0m\n"
          ],
          "name": "stdout"
        }
      ]
    },
    {
      "cell_type": "code",
      "metadata": {
        "colab": {
          "base_uri": "https://localhost:8080/"
        },
        "id": "yZakdHCSgoX1",
        "outputId": "1fc6e748-a55b-44ba-c2db-4b1474b2ddb7"
      },
      "source": [
        "#Obtain dataset for training and testing\n",
        "\n",
        "train_dataset, test_dataset = dataset['train'], dataset['test']\n",
        "train_dataset.element_spec"
      ],
      "execution_count": 5,
      "outputs": [
        {
          "output_type": "execute_result",
          "data": {
            "text/plain": [
              "(TensorSpec(shape=(), dtype=tf.string, name=None),\n",
              " TensorSpec(shape=(), dtype=tf.int64, name=None))"
            ]
          },
          "metadata": {
            "tags": []
          },
          "execution_count": 5
        }
      ]
    },
    {
      "cell_type": "code",
      "metadata": {
        "colab": {
          "base_uri": "https://localhost:8080/"
        },
        "id": "j8q8nwEdK--P",
        "outputId": "f640b93d-7098-4cca-ed2c-0180913b5e84"
      },
      "source": [
        "#Show example of data and labelling\n",
        "#0-World, 1-Sports, 2-Business, 3-Tech \n",
        "for example, label in train_dataset.take(1):\n",
        "  print('text: ', example.numpy())\n",
        "  print('label: ', label.numpy())"
      ],
      "execution_count": 6,
      "outputs": [
        {
          "output_type": "stream",
          "text": [
            "text:  b'AMD #39;s new dual-core Opteron chip is designed mainly for corporate computing applications, including databases, Web services, and financial transactions.'\n",
            "label:  3\n"
          ],
          "name": "stdout"
        }
      ]
    },
    {
      "cell_type": "markdown",
      "metadata": {
        "id": "Eh14KKo97Xhr"
      },
      "source": [
        "**DATA PREPARATION**"
      ]
    },
    {
      "cell_type": "code",
      "metadata": {
        "id": "e0xKdcIPJ7Bt"
      },
      "source": [
        "#Set buffer size and batch size for optimization\n",
        "BUFFER_SIZE = 10000\n",
        "BATCH_SIZE = 64"
      ],
      "execution_count": 7,
      "outputs": []
    },
    {
      "cell_type": "code",
      "metadata": {
        "id": "Jx-ysFmjhPLp"
      },
      "source": [
        "#Autotune the dataset\n",
        "train_dataset = train_dataset.shuffle(BUFFER_SIZE).batch(BATCH_SIZE).prefetch(tf.data.AUTOTUNE)\n",
        "test_dataset = test_dataset.batch(BATCH_SIZE).prefetch(tf.data.AUTOTUNE)"
      ],
      "execution_count": 8,
      "outputs": []
    },
    {
      "cell_type": "code",
      "metadata": {
        "colab": {
          "base_uri": "https://localhost:8080/"
        },
        "id": "WrKu8o_eY6lO",
        "outputId": "14cafabd-8575-4163-849b-6d717b8620ee"
      },
      "source": [
        "#Check the autotune result, shuffled from before\n",
        "for example, label in train_dataset.take(1):\n",
        "  print('texts: ', example.numpy()[3])\n",
        "  print()\n",
        "  print('labels: ', label.numpy()[3])"
      ],
      "execution_count": 9,
      "outputs": [
        {
          "output_type": "stream",
          "text": [
            "texts:  b'Nortel (NT:NYSE - news - research) suffered another setback on its march to accountability Thursday, warning that it will need an additional month to complete its audit and file restated financials.'\n",
            "\n",
            "labels:  2\n"
          ],
          "name": "stdout"
        }
      ]
    },
    {
      "cell_type": "code",
      "metadata": {
        "id": "7oMHeqyQXWfS"
      },
      "source": [
        "#Set Vocabulary size and vectorize the data\n",
        "VOCAB_SIZE = 10000\n",
        "encoder = tf.keras.layers.experimental.preprocessing.TextVectorization(\n",
        "    max_tokens=VOCAB_SIZE)\n",
        "encoder.adapt(train_dataset.map(lambda text, label: text))"
      ],
      "execution_count": 10,
      "outputs": []
    },
    {
      "cell_type": "markdown",
      "metadata": {
        "id": "irrKeadtDMx3"
      },
      "source": [
        "**CREATE MODEL**"
      ]
    },
    {
      "cell_type": "markdown",
      "metadata": {
        "id": "WNsaGQ-TDPvJ"
      },
      "source": [
        "In this model, I use one layer of LSTM. I was trying to use CuDNNLSTM, because the process is faster when using GPU (and it is 2 times faster than ordinary LSTM). However, the accuracy somehow worse than the ordinary LSTM. So I switched it back."
      ]
    },
    {
      "cell_type": "markdown",
      "metadata": {
        "id": "x7mLVH3MD3dX"
      },
      "source": [
        "I use dropout because there is a tendency of the model to overfit. Especially when doing more than 10 epochs."
      ]
    },
    {
      "cell_type": "code",
      "metadata": {
        "id": "X1yH2G0bYa1b"
      },
      "source": [
        "model = tf.keras.Sequential([\n",
        "    encoder,\n",
        "    tf.keras.layers.Embedding(\n",
        "        input_dim=len(encoder.get_vocabulary()),\n",
        "        output_dim=64,\n",
        "        # Use masking to handle the variable sequence lengths\n",
        "        mask_zero=True),\n",
        "    tf.keras.layers.Bidirectional(tf.keras.layers.LSTM(64)),\n",
        "    #tf.keras.layers.Bidirectional(tf.compat.v1.keras.layers.CuDNNLSTM(64)),\n",
        "    tf.keras.layers.Dense(64, activation='relu'),\n",
        "    tf.keras.layers.Dropout(0.5),\n",
        "    tf.keras.layers.Dense(4) #number of class: 0,1,2,3.\n",
        "])"
      ],
      "execution_count": 11,
      "outputs": []
    },
    {
      "cell_type": "markdown",
      "metadata": {
        "id": "j7V8zjoSEK4k"
      },
      "source": [
        "Sparse Categorical Crossentropy is used when there are more than one class and the information of the class is in 1 field (not hot-encoded). For more info: https://keras.io/api/losses/probabilistic_losses/#sparsecategoricalcrossentropy-class"
      ]
    },
    {
      "cell_type": "code",
      "metadata": {
        "id": "FWQnYB2VhzWk"
      },
      "source": [
        "model.compile(loss=tf.keras.losses.SparseCategoricalCrossentropy(from_logits=True),\n",
        "              optimizer=tf.keras.optimizers.Adam(1e-4),\n",
        "              metrics=['accuracy'])"
      ],
      "execution_count": 12,
      "outputs": []
    },
    {
      "cell_type": "code",
      "metadata": {
        "id": "pdBgTNL5QCcR",
        "colab": {
          "base_uri": "https://localhost:8080/"
        },
        "outputId": "6d88dc05-d5de-41fe-c591-245b6f391e10"
      },
      "source": [
        "history = model.fit(train_dataset, epochs=15,\n",
        "                    validation_data=test_dataset,\n",
        "                    validation_steps=30)"
      ],
      "execution_count": 13,
      "outputs": [
        {
          "output_type": "stream",
          "text": [
            "Epoch 1/15\n",
            "1875/1875 [==============================] - 58s 24ms/step - loss: 0.7483 - accuracy: 0.7115 - val_loss: 0.4017 - val_accuracy: 0.8786\n",
            "Epoch 2/15\n",
            "1875/1875 [==============================] - 43s 23ms/step - loss: 0.3747 - accuracy: 0.8828 - val_loss: 0.3195 - val_accuracy: 0.8990\n",
            "Epoch 3/15\n",
            "1875/1875 [==============================] - 43s 23ms/step - loss: 0.3001 - accuracy: 0.9062 - val_loss: 0.3059 - val_accuracy: 0.9036\n",
            "Epoch 4/15\n",
            "1875/1875 [==============================] - 44s 23ms/step - loss: 0.2626 - accuracy: 0.9177 - val_loss: 0.3089 - val_accuracy: 0.9036\n",
            "Epoch 5/15\n",
            "1875/1875 [==============================] - 43s 23ms/step - loss: 0.2395 - accuracy: 0.9258 - val_loss: 0.2874 - val_accuracy: 0.9073\n",
            "Epoch 6/15\n",
            "1875/1875 [==============================] - 43s 23ms/step - loss: 0.2223 - accuracy: 0.9305 - val_loss: 0.2845 - val_accuracy: 0.9104\n",
            "Epoch 7/15\n",
            "1875/1875 [==============================] - 43s 23ms/step - loss: 0.2075 - accuracy: 0.9347 - val_loss: 0.2892 - val_accuracy: 0.9115\n",
            "Epoch 8/15\n",
            "1875/1875 [==============================] - 45s 24ms/step - loss: 0.1959 - accuracy: 0.9390 - val_loss: 0.2977 - val_accuracy: 0.9083\n",
            "Epoch 9/15\n",
            "1875/1875 [==============================] - 45s 24ms/step - loss: 0.1863 - accuracy: 0.9416 - val_loss: 0.2990 - val_accuracy: 0.9109\n",
            "Epoch 10/15\n",
            "1875/1875 [==============================] - 45s 24ms/step - loss: 0.1765 - accuracy: 0.9441 - val_loss: 0.3146 - val_accuracy: 0.9073\n",
            "Epoch 11/15\n",
            "1875/1875 [==============================] - 45s 24ms/step - loss: 0.1675 - accuracy: 0.9469 - val_loss: 0.3221 - val_accuracy: 0.9036\n",
            "Epoch 12/15\n",
            "1875/1875 [==============================] - 45s 24ms/step - loss: 0.1576 - accuracy: 0.9504 - val_loss: 0.3547 - val_accuracy: 0.9068\n",
            "Epoch 13/15\n",
            "1875/1875 [==============================] - 47s 25ms/step - loss: 0.1503 - accuracy: 0.9527 - val_loss: 0.3624 - val_accuracy: 0.9010\n",
            "Epoch 14/15\n",
            "1875/1875 [==============================] - 45s 24ms/step - loss: 0.1416 - accuracy: 0.9549 - val_loss: 0.3707 - val_accuracy: 0.9031\n",
            "Epoch 15/15\n",
            "1875/1875 [==============================] - 46s 25ms/step - loss: 0.1335 - accuracy: 0.9574 - val_loss: 0.3911 - val_accuracy: 0.8969\n"
          ],
          "name": "stdout"
        }
      ]
    },
    {
      "cell_type": "code",
      "metadata": {
        "colab": {
          "base_uri": "https://localhost:8080/"
        },
        "id": "sqx0XopdiHv8",
        "outputId": "4e262210-7978-4bcf-d60b-9510490906ab"
      },
      "source": [
        "#Model Accuracy\n",
        "\n",
        "test_loss, test_acc = model.evaluate(test_dataset)\n",
        "\n",
        "print('Test Loss:', test_loss)\n",
        "print('Test Accuracy:', test_acc)"
      ],
      "execution_count": 14,
      "outputs": [
        {
          "output_type": "stream",
          "text": [
            "119/119 [==============================] - 1s 11ms/step - loss: 0.4091 - accuracy: 0.8892\n",
            "Test Loss: 0.4090839922428131\n",
            "Test Accuracy: 0.8892105221748352\n"
          ],
          "name": "stdout"
        }
      ]
    },
    {
      "cell_type": "code",
      "metadata": {
        "colab": {
          "base_uri": "https://localhost:8080/",
          "height": 418
        },
        "id": "mhSpYYGEkCLN",
        "outputId": "2337b1f4-68b6-4079-d737-d71acd72e5f5"
      },
      "source": [
        "plt.figure(figsize=(16, 8))\n",
        "plt.subplot(1, 2, 1)\n",
        "plot_graphs(history, 'accuracy')\n",
        "plt.ylim(None, 1)\n",
        "plt.subplot(1, 2, 2)\n",
        "plot_graphs(history, 'loss')\n",
        "plt.ylim(0, None)"
      ],
      "execution_count": 15,
      "outputs": [
        {
          "output_type": "execute_result",
          "data": {
            "text/plain": [
              "(0.0, 0.7790023416280747)"
            ]
          },
          "metadata": {
            "tags": []
          },
          "execution_count": 15
        },
        {
          "output_type": "display_data",
          "data": {
            "image/png": "[encoded data removed]",
            "text/plain": [
              "<Figure size 1152x576 with 2 Axes>"
            ]
          },
          "metadata": {
            "tags": [],
            "needs_background": "light"
          }
        }
      ]
    },
    {
      "cell_type": "markdown",
      "metadata": {
        "id": "NIaDUbRvHmGm"
      },
      "source": [
        "**TEST BY INPUT NEW TEXT**"
      ]
    },
    {
      "cell_type": "code",
      "metadata": {
        "id": "KB2hHgAonS-4"
      },
      "source": [
        "#Create a list of labels\n",
        "\n",
        "label_class=[]\n",
        "label_class.append(\"World\") #0\n",
        "label_class.append(\"Sports\") #1\n",
        "label_class.append(\"Business\") #2\n",
        "label_class.append(\"SciTech\") #3"
      ],
      "execution_count": 16,
      "outputs": []
    },
    {
      "cell_type": "markdown",
      "metadata": {
        "id": "YiclNi-ZHv5E"
      },
      "source": [
        "The result of prediction will be an array of scores for each classes. In this code, I iterate the score for each class and return the highest score + the index. The index then will be passed to list of labels."
      ]
    },
    {
      "cell_type": "code",
      "metadata": {
        "colab": {
          "base_uri": "https://localhost:8080/"
        },
        "id": "71YZU0d1kFGl",
        "outputId": "c3895da0-e08a-4d4e-ea20-e419e2891ec0"
      },
      "source": [
        "sample_text = ('KGB starts a new cold war with CIA in issue of brexit')\n",
        "predictions = model.predict(np.array([sample_text]))\n",
        "array_score = predictions[0]\n",
        "\n",
        "i=0\n",
        "max_score =-99\n",
        "index = 0\n",
        "for score in array_score:\n",
        "  if score > max_score:\n",
        "    max_score = score\n",
        "    index = i\n",
        "  else:\n",
        "    max_score=max_score\n",
        "    index=index\n",
        "  i=i+1\n",
        "print(sample_text)\n",
        "print(\"This news is in category:\")\n",
        "print(label_class[index])\n",
        "\n"
      ],
      "execution_count": 20,
      "outputs": [
        {
          "output_type": "stream",
          "text": [
            "KGB starts a new cold war with CIA in issue of brexit\n",
            "This news is in category:\n",
            "World\n"
          ],
          "name": "stdout"
        }
      ]
    },
    {
      "cell_type": "code",
      "metadata": {
        "colab": {
          "base_uri": "https://localhost:8080/"
        },
        "id": "BaK8a0F9kd3y",
        "outputId": "5776dc4a-9969-4ff0-ae39-c0aecb03cea2"
      },
      "source": [
        "#To check the prediction score for each class\n",
        "array_score"
      ],
      "execution_count": null,
      "outputs": [
        {
          "output_type": "execute_result",
          "data": {
            "text/plain": [
              "array([-0.4061964 , -0.02737563, -1.8402835 ,  0.75210404], dtype=float32)"
            ]
          },
          "metadata": {
            "tags": []
          },
          "execution_count": 55
        }
      ]
    },
    {
      "cell_type": "markdown",
      "metadata": {
        "id": "9A0WrFH7IT8B"
      },
      "source": [
        "**OPTIONAL**"
      ]
    },
    {
      "cell_type": "markdown",
      "metadata": {
        "id": "GlYVWtYWIWX2"
      },
      "source": [
        "The model below is using one more LSTM layer. I've tried to use it, but the result is pretty much the same."
      ]
    },
    {
      "cell_type": "code",
      "metadata": {
        "id": "eDBW1HjIknbE"
      },
      "source": [
        "#ADD MORE LSTM LAYER\n",
        "model2 = tf.keras.Sequential([\n",
        "    encoder,\n",
        "    tf.keras.layers.Embedding(len(encoder.get_vocabulary()), output_dim=64, mask_zero=False),\n",
        "    tf.keras.layers.Bidirectional(tf.keras.layers.LSTM(64,  return_sequences=True)),\n",
        "    tf.keras.layers.Bidirectional(tf.keras.layers.LSTM(32)),\n",
        "    tf.keras.layers.Dense(64, activation='relu'),\n",
        "    tf.keras.layers.Dropout(0.5),\n",
        "    tf.keras.layers.Dense(4)\n",
        "])"
      ],
      "execution_count": 21,
      "outputs": []
    },
    {
      "cell_type": "code",
      "metadata": {
        "id": "383SuIypr64_"
      },
      "source": [
        "model2.compile(loss=tf.keras.losses.SparseCategoricalCrossentropy(from_logits=True),\n",
        "              optimizer=tf.keras.optimizers.Adam(1e-4),\n",
        "              metrics=['accuracy'])"
      ],
      "execution_count": 22,
      "outputs": []
    },
    {
      "cell_type": "code",
      "metadata": {
        "colab": {
          "base_uri": "https://localhost:8080/",
          "height": 197
        },
        "id": "nstwZ7sRlqyc",
        "outputId": "6bcc3952-b177-4e2b-9b66-3a76cb090e04"
      },
      "source": [
        "history = model2.fit(train_dataset, epochs=15,\n",
        "                    validation_data=test_dataset,\n",
        "                    validation_steps=30)"
      ],
      "execution_count": 1,
      "outputs": [
        {
          "output_type": "error",
          "ename": "NameError",
          "evalue": "ignored",
          "traceback": [
            "\u001b[0;31m---------------------------------------------------------------------------\u001b[0m",
            "\u001b[0;31mNameError\u001b[0m                                 Traceback (most recent call last)",
            "\u001b[0;32m<ipython-input-1-229b0a5a12a4>\u001b[0m in \u001b[0;36m<module>\u001b[0;34m()\u001b[0m\n\u001b[0;32m----> 1\u001b[0;31m history = model2.fit(train_dataset, epochs=15,\n\u001b[0m\u001b[1;32m      2\u001b[0m                     \u001b[0mvalidation_data\u001b[0m\u001b[0;34m=\u001b[0m\u001b[0mtest_dataset\u001b[0m\u001b[0;34m,\u001b[0m\u001b[0;34m\u001b[0m\u001b[0;34m\u001b[0m\u001b[0m\n\u001b[1;32m      3\u001b[0m                     validation_steps=30)\n",
            "\u001b[0;31mNameError\u001b[0m: name 'model2' is not defined"
          ]
        }
      ]
    },
    {
      "cell_type": "code",
      "metadata": {
        "id": "pmTZBPhZLDVQ"
      },
      "source": [
        "#Model Accuracy\n",
        "\n",
        "test_loss, test_acc = model.evaluate(test_dataset)\n",
        "\n",
        "print('Test Loss:', test_loss)\n",
        "print('Test Accuracy:', test_acc)"
      ],
      "execution_count": null,
      "outputs": []
    },
    {
      "cell_type": "code",
      "metadata": {
        "id": "6Kkz5WhPLHph"
      },
      "source": [
        "plt.figure(figsize=(16, 8))\n",
        "plt.subplot(1, 2, 1)\n",
        "plot_graphs(history, 'accuracy')\n",
        "plt.ylim(None, 1)\n",
        "plt.subplot(1, 2, 2)\n",
        "plot_graphs(history, 'loss')\n",
        "plt.ylim(0, None)"
      ],
      "execution_count": null,
      "outputs": []
    },
    {
      "cell_type": "code",
      "metadata": {
        "colab": {
          "base_uri": "https://localhost:8080/"
        },
        "id": "5bZWJ_8hriLb",
        "outputId": "05ec6622-3f57-4667-d2eb-a614660d8815"
      },
      "source": [
        "#Testing\n",
        "sample_text = ('Manchester United signs another striker')\n",
        "predictions = model2.predict(np.array([sample_text]))\n",
        "array_score = predictions[0]\n",
        "\n",
        "i=0\n",
        "max_score =-99\n",
        "index = 0\n",
        "for score in array_score:\n",
        "  if score > max_score:\n",
        "    max_score = score\n",
        "    index = i\n",
        "  else:\n",
        "    max_score=max_score\n",
        "    index=index\n",
        "  i=i+1\n",
        "print(sample_text)\n",
        "print(\"This news is in category:\")\n",
        "print(label_class[index])"
      ],
      "execution_count": null,
      "outputs": [
        {
          "output_type": "stream",
          "text": [
            "Manchester United signs another striker\n",
            "This news is in category:\n",
            "Sports\n"
          ],
          "name": "stdout"
        }
      ]
    },
    {
      "cell_type": "code",
      "metadata": {
        "colab": {
          "base_uri": "https://localhost:8080/"
        },
        "id": "8nu6HdrYxPE8",
        "outputId": "71b31f48-2f08-40c0-dec2-35b507be0b7a"
      },
      "source": [
        "#Check score for all class\n",
        "array_score"
      ],
      "execution_count": null,
      "outputs": [
        {
          "output_type": "execute_result",
          "data": {
            "text/plain": [
              "array([ 0.12413865,  1.0473719 , -1.0362192 , -0.7814233 ], dtype=float32)"
            ]
          },
          "metadata": {
            "tags": []
          },
          "execution_count": 74
        }
      ]
    },
    {
      "cell_type": "code",
      "metadata": {
        "id": "UTRZrmngxdaE"
      },
      "source": [
        ""
      ],
      "execution_count": null,
      "outputs": []
    }
  ]
}